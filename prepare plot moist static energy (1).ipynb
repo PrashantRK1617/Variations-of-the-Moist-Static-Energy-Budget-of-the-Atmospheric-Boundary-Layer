{
 "cells": [
  {
   "cell_type": "code",
   "execution_count": null,
   "id": "1796587f",
   "metadata": {},
   "outputs": [],
   "source": [
    "\n",
    "%matplotlib inline\n",
    "import numpy as np\n",
    "import matplotlib.pyplot as plt \n",
    "import xarray as xr\n",
    "import cartopy.crs as ccrs\n",
    "from cartopy import feature as cf\n",
    "import matplotlib.pyplot as plt\n",
    "import cartopy\n",
    "import cartopy.feature as cfeat\n",
    "import cartopy.crs as ccrs\n",
    "import pandas as pd\n",
    "import numpy as np\n",
    "import pandas as pd\n",
    "import xarray as xr\n",
    "import cartopy.crs as ccrs\n",
    "from matplotlib import pyplot as plt\n",
    "import warnings\n",
    "warnings.filterwarnings('ignore')"
   ]
  },
  {
   "cell_type": "code",
   "execution_count": null,
   "id": "2d88a336",
   "metadata": {},
   "outputs": [],
   "source": [
    "z=xr.open_dataset(\"D:/aksir/plot prepare/moist static/era5/adaptor.mars.internal-1655365589.5674748-18274-2-6afe04c6-9ba2-4c78-8045-1fc2304498a9.nc\")\n",
    "t=xr.open_dataset(\"D:/aksir/plot prepare/moist static/era5/adaptor.mars.internal-1655365601.2315671-7106-3-ef576e2d-5d53-4c38-8222-fc56087addfa.nc\")\n",
    "q=xr.open_dataset(\"D:/aksir/plot prepare/moist static/era5/adaptor.mars.internal-1655365605.9680722-18302-16-91c96262-d23b-4f31-810c-b05f1e7402f6.nc\")"
   ]
  },
  {
   "cell_type": "code",
   "execution_count": null,
   "id": "3e254bdc",
   "metadata": {
    "scrolled": true
   },
   "outputs": [],
   "source": [
    "z"
   ]
  },
  {
   "cell_type": "code",
   "execution_count": null,
   "id": "f193524e",
   "metadata": {
    "scrolled": true
   },
   "outputs": [],
   "source": [
    "t"
   ]
  },
  {
   "cell_type": "code",
   "execution_count": null,
   "id": "835f547e",
   "metadata": {
    "scrolled": true
   },
   "outputs": [],
   "source": [
    "q"
   ]
  },
  {
   "cell_type": "code",
   "execution_count": null,
   "id": "c7c403eb",
   "metadata": {
    "scrolled": true
   },
   "outputs": [],
   "source": [
    "# p_level = 1000\n",
    "# mse = np.zeros((2,50,50))\n",
    "# mse_total = np.zeros((50,50))\n",
    "# #print(mse_total)\n",
    "# for i in range(0,1):\n",
    "#     #print(i)\n",
    "#     for m in range(0,49,1): #49\n",
    "#         #print(m)\n",
    "#         for n in range(0,49,1): #49\n",
    "#             z1 = z['HGT_prl'][0,i,m,n]\n",
    "#             t1 = t['TMP_prl'][0,i,m,n]\n",
    "#             q1 = q['SPFH_prl'][0,i,m,n]\n",
    "#             mse[i,m,n] = (((9.81*z[i]) + (1004*t[i]) + (2260* q[i])))\n",
    "# for m in range(0,49,1): #49\n",
    "#     #print('m',m)\n",
    "#     for n in range(0,49,1): #49\n",
    "#         mse_total[m,n] = sum(mse[:,m,n])\n",
    "#         print(mse_total[m,n])"
   ]
  },
  {
   "cell_type": "code",
   "execution_count": null,
   "id": "dee35559",
   "metadata": {},
   "outputs": [],
   "source": [
    "#p_level = range(750,1025,25)\n",
    "mse = np.zeros((30,50,50))\n",
    "mse_total = np.zeros((50,50))\n",
    "#print(mse_total)\n",
    "#print(p_level)\n",
    "for i in range(19,20,1):\n",
    "    print(i)\n",
    "    for m in range(0,49,1): #49\n",
    "        #print(m)\n",
    "        for n in range(0,49,1): #49\n",
    "            z1 = z['z'][0,i,m,n]\n",
    "            t1 = t['t'][0,i,m,n]\n",
    "            q1 = q['q'][0,i,m,n]\n",
    "            mse[i,m,n] = (((9.81*z1) + (1004*t1) + ((2.5*(10**6))* q1)))\n",
    "for m in range(0,49,1): #49\n",
    "    #print('m',m)\n",
    "    for n in range(0,49,1): #49\n",
    "        mse_total[m,n] = sum(mse[:,m,n])\n",
    "        print(mse_total[m,n])\n"
   ]
  },
  {
   "cell_type": "code",
   "execution_count": null,
   "id": "93489b41",
   "metadata": {},
   "outputs": [],
   "source": [
    "def ms(cp,t,g,z,l,q):\n",
    "    msee=(((g*z)+(cp*t)+(q*l))/1000)\n",
    "    return(msee)\n",
    "ms(1004,300,9.81,50,0.00015,2260)\n"
   ]
  },
  {
   "cell_type": "code",
   "execution_count": null,
   "id": "a24391c6",
   "metadata": {},
   "outputs": [],
   "source": [
    "%matplotlib inline\n",
    "import cartopy\n",
    "import cartopy.feature as cfeat\n",
    "import cartopy.crs as ccrs\n",
    "\n",
    "#X=ds.longitude;Y=ds.latitude;T=ds.time\n",
    "# for hr in range(0,ds.u.shape[0]):\n",
    "\n",
    "  \n",
    "\n",
    "#     U=ds.u[0]\n",
    "#     V=ds.v[0]\n",
    " \n",
    "#     M=np.sqrt((U**2)+(V**2))\n",
    "fig=plt.figure(figsize=(8,5),dpi=500)\n",
    "ax = plt.subplot(111, projection=ccrs.PlateCarree())\n",
    "#     fig, (ax, ax2) = plt.subplots(111,projection=ccrs.PlateCarree())\n",
    "#     axins1 = inset_axes(ax2,\n",
    "#                     width=\"50%\",  # width = 50% of parent_bbox width\n",
    "#                     height=\"5%\",  # height : 5%\n",
    "#                     loc='upper right')\n",
    "\n",
    "#     plt.colorbar(im_rh,fraction=0.048,pad=0.01 )\n",
    "    \n",
    "ax.coastlines()\n",
    "#levels =np.arange(1,20,2)\n",
    "ax.set_extent([66,78,12,24])\n",
    "\n",
    "        \n",
    "ax.gridlines().ylabels_left = True\n",
    "ax.gridlines().xlabels_bottom = True\n",
    "\n",
    "plt.contourf(z.longitude.values,z.latitude.values,mse_total[:-1,:-1],cmap= 'jet',extend='both')#,levels=np.arange(9760000,10160000,40000))\n",
    "    #wv=ax.quiver(X[::2], Y[::2], U[::2,::2], V[::2,::2],M[::2,::2],cmap='binary')\n",
    "    \n",
    "    \n",
    "plt.grid()\n",
    "plt.colorbar(fraction=0.060,label=\"[ j kg-1]\")\n",
    "#levels = range(1,20,1)\n",
    "#plt.colorbar(wv,fraction=0.060,pad=0.050,label=\"[m/s]\",extend=\"both\")\n",
    "plt.title((np.datetime_as_string(z.time[0].values)[:19]))\n",
    "    #plt.title(np.datetime_as_string(T.time[hr].values)[:16])\n",
    "    #plt.grid()\n",
    "#plt.suptitle(\"MSE_ERA5_1000hPa=2005-07-29_T17:30hr_IST\", y=0.97,x=0.58,fontsize=11,horizontalalignment='center')\n",
    "\n",
    "#plt.savefig(\"MSE_ERA5_1000hPa_2005-07-29_T17_30hr_IST\"+'.png',bbox_inches='tight',dpi=500)\n"
   ]
  },
  {
   "cell_type": "code",
   "execution_count": null,
   "id": "bb6f96e3",
   "metadata": {},
   "outputs": [],
   "source": []
  },
  {
   "cell_type": "code",
   "execution_count": null,
   "id": "a4a381df",
   "metadata": {},
   "outputs": [],
   "source": []
  },
  {
   "cell_type": "code",
   "execution_count": null,
   "id": "c5a6404b",
   "metadata": {},
   "outputs": [],
   "source": [
    "z=xr.open_dataset(\"D:/aksir/plot prepare/moist static/BeGOuCPeboqUo3IvhXM-TmMYyCqc0EeSWEBto5h9Mjx3AE5x0QV9p0t4kVw0k-7SRBKaRJMnG5z5qXcd85j75g.nc\")\n",
    "t=xr.open_dataset(\"D:/aksir/plot prepare/moist static/N_7h0mR_sgwFj0ej83tvumj_Vf8y6Ju9Lqr6EHPOsrIJlQoyYTGJmdhy5wagt5_BtTX4ElRlXX82lZI1eGLUBA.nc\")\n",
    "q=xr.open_dataset(\"D:/aksir/plot prepare/moist static/mM3XGZVrgJo3jhu0pYjFW02zFByjZiSw7iEJXgYXWWZBd85o16dGckSP87sRXMGL4zTAyX9iWKGV_4FhZpZKsg.nc\")"
   ]
  },
  {
   "cell_type": "code",
   "execution_count": null,
   "id": "aa88a328",
   "metadata": {},
   "outputs": [],
   "source": [
    "z"
   ]
  },
  {
   "cell_type": "code",
   "execution_count": null,
   "id": "22f1d0d2",
   "metadata": {},
   "outputs": [],
   "source": [
    "t"
   ]
  },
  {
   "cell_type": "code",
   "execution_count": null,
   "id": "d07a3e86",
   "metadata": {},
   "outputs": [],
   "source": [
    "q"
   ]
  },
  {
   "cell_type": "code",
   "execution_count": null,
   "id": "573a0b9d",
   "metadata": {},
   "outputs": [],
   "source": [
    "p_level = range(300,1025,25)\n",
    "mse = np.zeros((30,50,50))\n",
    "mse_total = np.zeros((50,50))\n",
    "#print(mse_total)\n",
    "print(p_level)\n",
    "for i in range(0,29,1):\n",
    "    print(i)\n",
    "    for m in range(0,49,1): #49\n",
    "        #print(m)\n",
    "        for n in range(0,49,1): #49\n",
    "            z1 = z['HGT_prl'][0,i,m,n]\n",
    "            print(z1)\n",
    "            t1 = t['TMP_prl'][0,i,m,n]\n",
    "            q1 = q['SPFH_prl'][0,i,m,n]\n",
    "            mse[i,m,n] = (((9.81*z1) + (1004*t1) + (2260* q1)))\n",
    "for m in range(0,49,1): #49\n",
    "    #print('m',m)\n",
    "    for n in range(0,49,1): #49\n",
    "        mse_total[m,n] = sum(mse[:,m,n])\n",
    "        print(mse_total[m,n])"
   ]
  },
  {
   "cell_type": "code",
   "execution_count": null,
   "id": "6c19c6dc",
   "metadata": {},
   "outputs": [],
   "source": []
  },
  {
   "cell_type": "code",
   "execution_count": null,
   "id": "6e9687ac",
   "metadata": {},
   "outputs": [],
   "source": [
    "%matplotlib inline\n",
    "import cartopy\n",
    "import cartopy.feature as cfeat\n",
    "import cartopy.crs as ccrs\n",
    "\n",
    "#X=ds.longitude;Y=ds.latitude;T=ds.time\n",
    "# for hr in range(0,ds.u.shape[0]):\n",
    "\n",
    "  \n",
    "\n",
    "#     U=ds.u[0]\n",
    "#     V=ds.v[0]\n",
    " \n",
    "#     M=np.sqrt((U**2)+(V**2))\n",
    "fig=plt.figure(figsize=(8,5),dpi=500)\n",
    "ax = plt.subplot(111, projection=ccrs.PlateCarree())\n",
    "#     fig, (ax, ax2) = plt.subplots(111,projection=ccrs.PlateCarree())\n",
    "#     axins1 = inset_axes(ax2,\n",
    "#                     width=\"50%\",  # width = 50% of parent_bbox width\n",
    "#                     height=\"5%\",  # height : 5%\n",
    "#                     loc='upper right')\n",
    "\n",
    "#     plt.colorbar(im_rh,fraction=0.048,pad=0.01 )\n",
    "    \n",
    "ax.coastlines()\n",
    "#levels =np.arange(1,20,2)\n",
    "ax.set_extent([66,78,12,24])\n",
    "\n",
    "        \n",
    "ax.gridlines().ylabels_left = True\n",
    "ax.gridlines().xlabels_bottom = True\n",
    "\n",
    "plt.contourf(z.longitude.values,z.latitude.values,mse_total[:-1,:-1],cmap= 'jet',extend='both')#,levels=np.arange(0,800,50))\n",
    "    #wv=ax.quiver(X[::2], Y[::2], U[::2,::2], V[::2,::2],M[::2,::2],cmap='binary')\n",
    "    \n",
    "    \n",
    "plt.grid()\n",
    "plt.colorbar(fraction=0.060)####label=\"[kg m-1 s-1]\",\n",
    "#levels = range(1,20,1)\n",
    "#plt.colorbar(wv,fraction=0.060,pad=0.050,label=\"[m/s]\",extend=\"both\")\n",
    "plt.title((np.datetime_as_string(z.time[0].values)[:19]))\n",
    "    #plt.title(np.datetime_as_string(T.time[hr].values)[:16])\n",
    "    #plt.grid()\n",
    "\n",
    "    #plt.suptitle(\"IVT_Range_1000-950hPa=2005-07-28_T23:30hr_IST\", y=0.96,x=0.51,fontsize=10,horizontalalignment='center')\n",
    "\n",
    "  #  plt.savefig(\"IVT_Range_1000-950hPa_2005-07-28_T23_30hr_IST\"+'.png',bbox_inches='tight',dpi=500)\n"
   ]
  },
  {
   "cell_type": "code",
   "execution_count": null,
   "id": "87f22be1",
   "metadata": {},
   "outputs": [],
   "source": []
  }
 ],
 "metadata": {
  "kernelspec": {
   "display_name": "Python 3 (ipykernel)",
   "language": "python",
   "name": "python3"
  },
  "language_info": {
   "codemirror_mode": {
    "name": "ipython",
    "version": 3
   },
   "file_extension": ".py",
   "mimetype": "text/x-python",
   "name": "python",
   "nbconvert_exporter": "python",
   "pygments_lexer": "ipython3",
   "version": "3.9.7"
  }
 },
 "nbformat": 4,
 "nbformat_minor": 5
}
